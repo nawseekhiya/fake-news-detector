{
  "nbformat": 4,
  "nbformat_minor": 0,
  "metadata": {
    "colab": {
      "provenance": []
    },
    "kernelspec": {
      "name": "python3",
      "display_name": "Python 3"
    },
    "language_info": {
      "name": "python"
    }
  },
  "cells": [
    {
      "cell_type": "markdown",
      "source": [
        "# Fake News Detector - Evaluate Model\n",
        "The notebook covers the evaluation of model with metrics run on ISOT Fake News detection dataset, provided by Kaggle.\n",
        "\n",
        "The Kaggle Link : https://www.kaggle.com/datasets/clmentbisaillon/fake-and-real-news-dataset"
      ],
      "metadata": {
        "id": "1-A5VWc_cLvh"
      }
    },
    {
      "cell_type": "code",
      "execution_count": 5,
      "metadata": {
        "colab": {
          "base_uri": "https://localhost:8080/"
        },
        "id": "nKpyHQXQb52E",
        "outputId": "9f9542ac-8e23-47c4-efaf-2ef3daafe5df"
      },
      "outputs": [
        {
          "output_type": "stream",
          "name": "stdout",
          "text": [
            "<frozen runpy>:128: RuntimeWarning: 'nltk.downloader' found in sys.modules after import of package 'nltk', but prior to execution of 'nltk.downloader'; this may result in unpredictable behaviour\n",
            "[nltk_data] Downloading package punkt_tab to /root/nltk_data...\n",
            "[nltk_data]   Package punkt_tab is already up-to-date!\n",
            "[nltk_data] Downloading package wordnet to /root/nltk_data...\n",
            "[nltk_data]   Package wordnet is already up-to-date!\n",
            "[nltk_data] Downloading package stopwords to /root/nltk_data...\n",
            "[nltk_data]   Package stopwords is already up-to-date!\n"
          ]
        }
      ],
      "source": [
        "# Step 1: Install required packages\n",
        "!pip install kagglehub[hf-datasets] pandas --quiet\n",
        "!python -m nltk.downloader punkt_tab wordnet stopwords > /dev/null"
      ]
    },
    {
      "cell_type": "code",
      "source": [
        "# Step 2: Import libraries\n",
        "import re\n",
        "import numpy as np\n",
        "import matplotlib.pyplot as plt\n",
        "import pandas as pd\n",
        "import seaborn as sns\n",
        "from time import time\n",
        "from sklearn.metrics import (\n",
        "    accuracy_score, precision_score, recall_score, f1_score,\n",
        "    confusion_matrix, classification_report\n",
        ")\n",
        "import joblib\n",
        "from kagglehub import KaggleDatasetAdapter\n",
        "from nltk.corpus import stopwords\n",
        "from nltk.stem import WordNetLemmatizer\n",
        "from nltk.tokenize import word_tokenize\n",
        "import kagglehub\n",
        "from pathlib import Path"
      ],
      "metadata": {
        "id": "9Y_H9jtwcblj"
      },
      "execution_count": 14,
      "outputs": []
    },
    {
      "cell_type": "markdown",
      "source": [
        "## Load dataset from the Kaggle"
      ],
      "metadata": {
        "id": "RcvL4x9Fdz11"
      }
    },
    {
      "cell_type": "code",
      "source": [
        "# Load datasets directly from Kaggle\n",
        "def load_dataset():\n",
        "    print(\"⏳ Loading datasets from Kaggle...\")\n",
        "    fake_ds = kagglehub.load_dataset(\n",
        "        KaggleDatasetAdapter.HUGGING_FACE,\n",
        "        \"clmentbisaillon/fake-and-real-news-dataset\",\n",
        "        \"Fake.csv\",\n",
        "        hf_kwargs={\"split\": \"all\"}\n",
        "    )\n",
        "\n",
        "    true_ds = kagglehub.load_dataset(\n",
        "        KaggleDatasetAdapter.HUGGING_FACE,\n",
        "        \"clmentbisaillon/fake-and-real-news-dataset\",\n",
        "        \"True.csv\",\n",
        "        hf_kwargs={\"split\": \"all\"}\n",
        "    )\n",
        "\n",
        "    # Convert to pandas DataFrames\n",
        "    fake_df = fake_ds.to_pandas()\n",
        "    fake_df['label'] = 1  # Fake news\n",
        "\n",
        "    true_df = true_ds.to_pandas()\n",
        "    true_df['label'] = 0  # Real news\n",
        "\n",
        "    # Combine datasets\n",
        "    df = pd.concat([fake_df, true_df], ignore_index=True)\n",
        "\n",
        "    print(f\"✅ Dataset loaded: {len(df)} records\")\n",
        "    print(f\"   - Fake news: {len(fake_df)} samples\")\n",
        "    print(f\"   - Real news: {len(true_df)} samples\")\n",
        "\n",
        "    return df\n",
        "\n",
        "# Load the data\n",
        "full_df = load_dataset()"
      ],
      "metadata": {
        "colab": {
          "base_uri": "https://localhost:8080/"
        },
        "id": "ooHhQdCDd3fd",
        "outputId": "950e9615-d273-4aaf-b49f-fa9640296602"
      },
      "execution_count": 7,
      "outputs": [
        {
          "output_type": "stream",
          "name": "stdout",
          "text": [
            "⏳ Loading datasets from Kaggle...\n"
          ]
        },
        {
          "output_type": "stream",
          "name": "stderr",
          "text": [
            "<ipython-input-7-492e9c0ad2ae>:4: DeprecationWarning: load_dataset is deprecated and will be removed in a future version.\n",
            "  fake_ds = kagglehub.load_dataset(\n",
            "<ipython-input-7-492e9c0ad2ae>:11: DeprecationWarning: load_dataset is deprecated and will be removed in a future version.\n",
            "  true_ds = kagglehub.load_dataset(\n"
          ]
        },
        {
          "output_type": "stream",
          "name": "stdout",
          "text": [
            "✅ Dataset loaded: 44898 records\n",
            "   - Fake news: 23481 samples\n",
            "   - Real news: 21417 samples\n"
          ]
        }
      ]
    },
    {
      "cell_type": "markdown",
      "source": [
        "## Data processing"
      ],
      "metadata": {
        "id": "41cEgVDhd5G1"
      }
    },
    {
      "cell_type": "code",
      "source": [
        "# Define project structure paths\n",
        "PROJECT_ROOT = Path.cwd()\n",
        "DATA_RAW = PROJECT_ROOT / \"data\" / \"raw\"\n",
        "DATA_PROCESSED = PROJECT_ROOT / \"data\" / \"processed\"\n",
        "\n",
        "# Create directories if they don't exist\n",
        "DATA_RAW.mkdir(parents=True, exist_ok=True)\n",
        "DATA_PROCESSED.mkdir(parents=True, exist_ok=True)"
      ],
      "metadata": {
        "id": "2TyWnTiofOYP"
      },
      "execution_count": 11,
      "outputs": []
    },
    {
      "cell_type": "code",
      "source": [
        "def preprocess_text(text):\n",
        "    if not isinstance(text, str):\n",
        "        return \"\"\n",
        "\n",
        "    # Lowercase\n",
        "    text = text.lower()\n",
        "\n",
        "    # Remove special characters/numbers except basic punctuation\n",
        "    text = re.sub(r'[^a-zA-Z\\s.,!?]', '', text)\n",
        "\n",
        "    # Remove URLs\n",
        "    text = re.sub(r'https?://\\S+|www\\.\\S+', '', text)\n",
        "\n",
        "    # Tokenize\n",
        "    tokens = word_tokenize(text)\n",
        "\n",
        "    # Remove stopwords and lemmatize\n",
        "    lemmatizer = WordNetLemmatizer()\n",
        "    stop_words = set(stopwords.words('english'))\n",
        "    tokens = [lemmatizer.lemmatize(word) for word in tokens if word not in stop_words]\n",
        "\n",
        "    # Remove short words (length < 2)\n",
        "    tokens = [word for word in tokens if len(word) > 1]\n",
        "\n",
        "    return ' '.join(tokens)"
      ],
      "metadata": {
        "id": "yQGQxp4JfnXi"
      },
      "execution_count": 15,
      "outputs": []
    },
    {
      "cell_type": "code",
      "source": [
        "# Full preprocessing workflow\n",
        "def preprocess_data(df):\n",
        "    print(\"\\n🧹 Preprocessing data...\")\n",
        "    start = time()\n",
        "\n",
        "    # Save raw data\n",
        "    raw_path = DATA_RAW / \"raw_combined.csv\"\n",
        "    df.to_csv(raw_path, index=False)\n",
        "    print(f\"✅ Raw data saved to: {raw_path}\")\n",
        "\n",
        "    # Clean data\n",
        "    df = df.drop_duplicates(subset=['title', 'text'])\n",
        "    df['text'] = df['text'].fillna('')\n",
        "    df['title'] = df['title'].fillna('')\n",
        "\n",
        "    # Combine title and text\n",
        "    df['full_text'] = df['title'] + ' ' + df['text']\n",
        "\n",
        "    # Preprocess text in batches\n",
        "    batch_size = 2000\n",
        "    batches = [df.iloc[i:i+batch_size] for i in range(0, len(df), batch_size)]\n",
        "\n",
        "    processed_texts = []\n",
        "    for i, batch in enumerate(batches):\n",
        "        print(f\"  Processing batch {i+1}/{len(batches)}\")\n",
        "        processed_batch = batch['full_text'].apply(preprocess_text)\n",
        "        processed_texts.extend(processed_batch)\n",
        "\n",
        "    df['processed_text'] = processed_texts\n",
        "\n",
        "    # Create train-test split\n",
        "    train_df = df.sample(frac=0.8, random_state=42)\n",
        "    test_df = df.drop(train_df.index)\n",
        "\n",
        "    # Save processed data\n",
        "    train_path = DATA_PROCESSED / \"train_processed.csv\"\n",
        "    test_path = DATA_PROCESSED / \"test_processed.csv\"\n",
        "\n",
        "    train_df.to_csv(train_path, index=False)\n",
        "    test_df.to_csv(test_path, index=False)\n",
        "\n",
        "    print(f\"✅ Preprocessing completed in {time()-start:.2f} seconds\")\n",
        "    print(f\"   - Train set ({len(train_df)} samples): {train_path}\")\n",
        "    print(f\"   - Test set ({len(test_df)} samples): {test_path}\")\n",
        "\n",
        "    # Save additional artifacts for future reference\n",
        "    sample_path = DATA_PROCESSED / \"sample_processed_texts.csv\"\n",
        "    train_df[['processed_text', 'label']].head(100).to_csv(sample_path, index=False)\n",
        "    print(f\"   - Sample processed texts: {sample_path}\")\n",
        "\n",
        "    return train_df, test_df\n",
        "\n",
        "# Preprocess the data\n",
        "train_df, test_df = preprocess_data(full_df)\n",
        "\n",
        "X_train = train_df['processed_text']\n",
        "y_train = train_df['label']\n",
        "X_test = test_df['processed_text']\n",
        "y_test = test_df['label']"
      ],
      "metadata": {
        "colab": {
          "base_uri": "https://localhost:8080/"
        },
        "id": "StOq2Hn-eZ5C",
        "outputId": "be16e92b-2fb2-4064-c292-f7f8b971cc7a"
      },
      "execution_count": 16,
      "outputs": [
        {
          "output_type": "stream",
          "name": "stdout",
          "text": [
            "\n",
            "🧹 Preprocessing data...\n",
            "✅ Raw data saved to: /content/data/raw/raw_combined.csv\n"
          ]
        },
        {
          "output_type": "stream",
          "name": "stderr",
          "text": [
            "<ipython-input-16-641032f2526c>:13: SettingWithCopyWarning: \n",
            "A value is trying to be set on a copy of a slice from a DataFrame.\n",
            "Try using .loc[row_indexer,col_indexer] = value instead\n",
            "\n",
            "See the caveats in the documentation: https://pandas.pydata.org/pandas-docs/stable/user_guide/indexing.html#returning-a-view-versus-a-copy\n",
            "  df['text'] = df['text'].fillna('')\n",
            "<ipython-input-16-641032f2526c>:14: SettingWithCopyWarning: \n",
            "A value is trying to be set on a copy of a slice from a DataFrame.\n",
            "Try using .loc[row_indexer,col_indexer] = value instead\n",
            "\n",
            "See the caveats in the documentation: https://pandas.pydata.org/pandas-docs/stable/user_guide/indexing.html#returning-a-view-versus-a-copy\n",
            "  df['title'] = df['title'].fillna('')\n",
            "<ipython-input-16-641032f2526c>:17: SettingWithCopyWarning: \n",
            "A value is trying to be set on a copy of a slice from a DataFrame.\n",
            "Try using .loc[row_indexer,col_indexer] = value instead\n",
            "\n",
            "See the caveats in the documentation: https://pandas.pydata.org/pandas-docs/stable/user_guide/indexing.html#returning-a-view-versus-a-copy\n",
            "  df['full_text'] = df['title'] + ' ' + df['text']\n"
          ]
        },
        {
          "output_type": "stream",
          "name": "stdout",
          "text": [
            "  Processing batch 1/20\n",
            "  Processing batch 2/20\n",
            "  Processing batch 3/20\n",
            "  Processing batch 4/20\n",
            "  Processing batch 5/20\n",
            "  Processing batch 6/20\n",
            "  Processing batch 7/20\n",
            "  Processing batch 8/20\n",
            "  Processing batch 9/20\n",
            "  Processing batch 10/20\n",
            "  Processing batch 11/20\n",
            "  Processing batch 12/20\n",
            "  Processing batch 13/20\n",
            "  Processing batch 14/20\n",
            "  Processing batch 15/20\n",
            "  Processing batch 16/20\n",
            "  Processing batch 17/20\n",
            "  Processing batch 18/20\n",
            "  Processing batch 19/20\n",
            "  Processing batch 20/20\n"
          ]
        },
        {
          "output_type": "stream",
          "name": "stderr",
          "text": [
            "<ipython-input-16-641032f2526c>:29: SettingWithCopyWarning: \n",
            "A value is trying to be set on a copy of a slice from a DataFrame.\n",
            "Try using .loc[row_indexer,col_indexer] = value instead\n",
            "\n",
            "See the caveats in the documentation: https://pandas.pydata.org/pandas-docs/stable/user_guide/indexing.html#returning-a-view-versus-a-copy\n",
            "  df['processed_text'] = processed_texts\n"
          ]
        },
        {
          "output_type": "stream",
          "name": "stdout",
          "text": [
            "✅ Preprocessing completed in 193.13 seconds\n",
            "   - Train set (31284 samples): /content/data/processed/train_processed.csv\n",
            "   - Test set (7821 samples): /content/data/processed/test_processed.csv\n",
            "   - Sample processed texts: /content/data/processed/sample_processed_texts.csv\n"
          ]
        }
      ]
    },
    {
      "cell_type": "markdown",
      "source": [
        "## Load the model"
      ],
      "metadata": {
        "id": "p9WPObe4dLnY"
      }
    },
    {
      "cell_type": "code",
      "source": [
        "model_path = \"/content/fake_news_model.pkl\"\n",
        "\n",
        "try:\n",
        "    model = joblib.load(model_path)\n",
        "    print(f\"Model loaded successfully from {model_path}\")\n",
        "except FileNotFoundError:\n",
        "    print(f\"Error: Model file not found at {model_path}\")\n",
        "    model = None"
      ],
      "metadata": {
        "colab": {
          "base_uri": "https://localhost:8080/"
        },
        "id": "zdyTVi5SdMRA",
        "outputId": "3822f0ac-0006-4f1a-a7fc-b2378f329153"
      },
      "execution_count": 17,
      "outputs": [
        {
          "output_type": "stream",
          "name": "stdout",
          "text": [
            "Model loaded successfully from /content/fake_news_model.pkl\n"
          ]
        }
      ]
    },
    {
      "cell_type": "markdown",
      "source": [
        "## Evaluating the model"
      ],
      "metadata": {
        "id": "oJsofDoec0ZV"
      }
    },
    {
      "cell_type": "code",
      "source": [
        "# Evaluate the model\n",
        "def evaluate_model(model, X_test, y_test):\n",
        "    print(\"\\n📊 Evaluating model...\")\n",
        "    start = time()\n",
        "\n",
        "    # Make predictions\n",
        "    y_pred = model.predict(X_test)\n",
        "\n",
        "    # Calculate metrics\n",
        "    accuracy = accuracy_score(y_test, y_pred)\n",
        "    precision = precision_score(y_test, y_pred)\n",
        "    recall = recall_score(y_test, y_pred)\n",
        "    f1 = f1_score(y_test, y_pred)\n",
        "\n",
        "    test_time = time() - start\n",
        "\n",
        "    print(f\"✅ Evaluation completed in {test_time:.2f} seconds\")\n",
        "    print(\"\\nClassification Report:\")\n",
        "    print(classification_report(y_test, y_pred, target_names=['Real', 'Fake']))\n",
        "\n",
        "    # Confusion matrix\n",
        "    cm = confusion_matrix(y_test, y_pred)\n",
        "    plt.figure(figsize=(8, 6))\n",
        "    sns.heatmap(cm, annot=True, fmt='d', cmap='Blues',\n",
        "                xticklabels=['Real', 'Fake'],\n",
        "                yticklabels=['Real', 'Fake'])\n",
        "    plt.xlabel('Predicted')\n",
        "    plt.ylabel('Actual')\n",
        "    plt.title('Confusion Matrix')\n",
        "    plt.show()\n",
        "\n",
        "    return {\n",
        "        'accuracy': accuracy,\n",
        "        'precision': precision,\n",
        "        'recall': recall,\n",
        "        'f1': f1,\n",
        "        'test_time': test_time\n",
        "    }\n",
        "\n",
        "# Evaluate\n",
        "metrics = evaluate_model(model, X_test, y_test)"
      ],
      "metadata": {
        "colab": {
          "base_uri": "https://localhost:8080/",
          "height": 807
        },
        "id": "1KTPY3Khc4Uf",
        "outputId": "ae0d4fde-8403-44d9-cf19-c40acb7aecd9"
      },
      "execution_count": 18,
      "outputs": [
        {
          "output_type": "stream",
          "name": "stdout",
          "text": [
            "\n",
            "📊 Evaluating model...\n",
            "✅ Evaluation completed in 2.79 seconds\n",
            "\n",
            "Classification Report:\n",
            "              precision    recall  f1-score   support\n",
            "\n",
            "        Real       0.98      0.99      0.99      4202\n",
            "        Fake       0.99      0.98      0.98      3619\n",
            "\n",
            "    accuracy                           0.99      7821\n",
            "   macro avg       0.99      0.99      0.99      7821\n",
            "weighted avg       0.99      0.99      0.99      7821\n",
            "\n"
          ]
        },
        {
          "output_type": "display_data",
          "data": {
            "text/plain": [
              "<Figure size 800x600 with 2 Axes>"
            ],
            "image/png": "[encoded data removed]"
          },
          "metadata": {}
        }
      ]
    }
  ]
}